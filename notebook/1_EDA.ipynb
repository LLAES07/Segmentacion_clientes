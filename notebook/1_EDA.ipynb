{
 "cells": [
  {
   "cell_type": "code",
   "execution_count": 58,
   "metadata": {},
   "outputs": [],
   "source": [
    "# Iportando librerias\n",
    "\n",
    "import pandas as pd\n",
    "import matplotlib.pyplot as plt\n",
    "import seaborn as sns\n",
    "import numpy as np\n",
    "import os"
   ]
  },
  {
   "cell_type": "markdown",
   "metadata": {},
   "source": [
    "## **1. Cargando el dataframe**"
   ]
  },
  {
   "cell_type": "code",
   "execution_count": 59,
   "metadata": {},
   "outputs": [
    {
     "data": {
      "text/html": [
       "<div>\n",
       "<style scoped>\n",
       "    .dataframe tbody tr th:only-of-type {\n",
       "        vertical-align: middle;\n",
       "    }\n",
       "\n",
       "    .dataframe tbody tr th {\n",
       "        vertical-align: top;\n",
       "    }\n",
       "\n",
       "    .dataframe thead th {\n",
       "        text-align: right;\n",
       "    }\n",
       "</style>\n",
       "<table border=\"1\" class=\"dataframe\">\n",
       "  <thead>\n",
       "    <tr style=\"text-align: right;\">\n",
       "      <th></th>\n",
       "      <th>InvoiceNo</th>\n",
       "      <th>InvoiceDate</th>\n",
       "      <th>CustomerID</th>\n",
       "      <th>Quantity</th>\n",
       "      <th>price_total</th>\n",
       "      <th>StockCode</th>\n",
       "    </tr>\n",
       "  </thead>\n",
       "  <tbody>\n",
       "    <tr>\n",
       "      <th>0</th>\n",
       "      <td>536365</td>\n",
       "      <td>2010-12-01</td>\n",
       "      <td>17850</td>\n",
       "      <td>40</td>\n",
       "      <td>139.12</td>\n",
       "      <td>7</td>\n",
       "    </tr>\n",
       "    <tr>\n",
       "      <th>1</th>\n",
       "      <td>536366</td>\n",
       "      <td>2010-12-01</td>\n",
       "      <td>17850</td>\n",
       "      <td>12</td>\n",
       "      <td>22.20</td>\n",
       "      <td>2</td>\n",
       "    </tr>\n",
       "    <tr>\n",
       "      <th>2</th>\n",
       "      <td>536367</td>\n",
       "      <td>2010-12-01</td>\n",
       "      <td>13047</td>\n",
       "      <td>83</td>\n",
       "      <td>278.73</td>\n",
       "      <td>12</td>\n",
       "    </tr>\n",
       "    <tr>\n",
       "      <th>3</th>\n",
       "      <td>536368</td>\n",
       "      <td>2010-12-01</td>\n",
       "      <td>13047</td>\n",
       "      <td>15</td>\n",
       "      <td>70.05</td>\n",
       "      <td>4</td>\n",
       "    </tr>\n",
       "    <tr>\n",
       "      <th>4</th>\n",
       "      <td>536369</td>\n",
       "      <td>2010-12-01</td>\n",
       "      <td>13047</td>\n",
       "      <td>3</td>\n",
       "      <td>17.85</td>\n",
       "      <td>1</td>\n",
       "    </tr>\n",
       "  </tbody>\n",
       "</table>\n",
       "</div>"
      ],
      "text/plain": [
       "  InvoiceNo InvoiceDate  CustomerID  Quantity  price_total  StockCode\n",
       "0    536365  2010-12-01       17850        40       139.12          7\n",
       "1    536366  2010-12-01       17850        12        22.20          2\n",
       "2    536367  2010-12-01       13047        83       278.73         12\n",
       "3    536368  2010-12-01       13047        15        70.05          4\n",
       "4    536369  2010-12-01       13047         3        17.85          1"
      ]
     },
     "execution_count": 59,
     "metadata": {},
     "output_type": "execute_result"
    }
   ],
   "source": [
    "os.getcwd() # Obtener la carpeta como de raiz\n",
    "\n",
    "df = pd.read_excel('data/Retail_Invoices.xlsx')\n",
    "\n",
    "df.head()"
   ]
  },
  {
   "cell_type": "code",
   "execution_count": 72,
   "metadata": {},
   "outputs": [
    {
     "name": "stdout",
     "output_type": "stream",
     "text": [
      "El dataframe tiene un total de 22190 filas y 6 columnas\n"
     ]
    }
   ],
   "source": [
    "print(f'El dataframe tiene un total de {df.shape[0]} filas y {df.shape[1]} columnas')"
   ]
  },
  {
   "cell_type": "markdown",
   "metadata": {},
   "source": [
    "## **2. EDA**"
   ]
  },
  {
   "cell_type": "markdown",
   "metadata": {},
   "source": [
    "### **2.1 Revisión columnas**"
   ]
  },
  {
   "cell_type": "code",
   "execution_count": 60,
   "metadata": {},
   "outputs": [
    {
     "name": "stdout",
     "output_type": "stream",
     "text": [
      "<class 'pandas.core.frame.DataFrame'>\n",
      "RangeIndex: 22190 entries, 0 to 22189\n",
      "Data columns (total 6 columns):\n",
      " #   Column       Non-Null Count  Dtype         \n",
      "---  ------       --------------  -----         \n",
      " 0   InvoiceNo    22190 non-null  object        \n",
      " 1   InvoiceDate  22190 non-null  datetime64[ns]\n",
      " 2   CustomerID   22190 non-null  int64         \n",
      " 3   Quantity     22190 non-null  int64         \n",
      " 4   price_total  22190 non-null  float64       \n",
      " 5   StockCode    22190 non-null  int64         \n",
      "dtypes: datetime64[ns](1), float64(1), int64(3), object(1)\n",
      "memory usage: 1.0+ MB\n"
     ]
    }
   ],
   "source": [
    "# Identificando los tipos de datos y viendo si hay nulos\n",
    "df.info()"
   ]
  },
  {
   "cell_type": "markdown",
   "metadata": {},
   "source": [
    "### **Insight**:\n",
    "\n",
    "- No hay datos nulos.\n",
    "- InvoiceNo es obj cuando deberia ser numérico.\n",
    "- Tenemos la mayoría de datos numéricos"
   ]
  },
  {
   "cell_type": "code",
   "execution_count": 65,
   "metadata": {},
   "outputs": [],
   "source": [
    "# Convirtiendo a numérico InvoiceNo\n",
    "\n",
    "try:\n",
    "    \n",
    "    df['InvoiceNo'] = pd.to_numeric(df['InvoiceNo'])\n",
    "\n",
    "except:\n",
    "    \n",
    "    df['InvoiceNo'] = df['InvoiceNo'].astype(str).str.replace(r'[a-zA-Z]+', '', regex=True).astype('int')"
   ]
  },
  {
   "cell_type": "code",
   "execution_count": 66,
   "metadata": {},
   "outputs": [
    {
     "name": "stdout",
     "output_type": "stream",
     "text": [
      "<class 'pandas.core.frame.DataFrame'>\n",
      "RangeIndex: 22190 entries, 0 to 22189\n",
      "Data columns (total 6 columns):\n",
      " #   Column       Non-Null Count  Dtype         \n",
      "---  ------       --------------  -----         \n",
      " 0   InvoiceNo    22190 non-null  int64         \n",
      " 1   InvoiceDate  22190 non-null  datetime64[ns]\n",
      " 2   CustomerID   22190 non-null  int64         \n",
      " 3   Quantity     22190 non-null  int64         \n",
      " 4   price_total  22190 non-null  float64       \n",
      " 5   StockCode    22190 non-null  int64         \n",
      "dtypes: datetime64[ns](1), float64(1), int64(4)\n",
      "memory usage: 1.0 MB\n"
     ]
    }
   ],
   "source": [
    "df.info()"
   ]
  },
  {
   "cell_type": "markdown",
   "metadata": {},
   "source": [
    "### **2.2 Duplicados**"
   ]
  },
  {
   "cell_type": "code",
   "execution_count": 69,
   "metadata": {},
   "outputs": [
    {
     "name": "stdout",
     "output_type": "stream",
     "text": [
      "El total de duplicados es de 0\n"
     ]
    }
   ],
   "source": [
    "total_duplicados = df.duplicated().sum()\n",
    "\n",
    "print(f'El total de duplicados es de {total_duplicados}')"
   ]
  },
  {
   "cell_type": "code",
   "execution_count": 74,
   "metadata": {},
   "outputs": [
    {
     "data": {
      "text/plain": [
       "['InvoiceNo', 'CustomerID', 'Quantity', 'price_total', 'StockCode']"
      ]
     },
     "execution_count": 74,
     "metadata": {},
     "output_type": "execute_result"
    }
   ],
   "source": [
    "numeric_cols = df.drop(columns='InvoiceDate', axis=1).columns.to_list()\n",
    "numeric_cols"
   ]
  },
  {
   "cell_type": "markdown",
   "metadata": {},
   "source": [
    "## **3. ESTADÍSTICAS PRINCIPALES**"
   ]
  },
  {
   "cell_type": "code",
   "execution_count": 78,
   "metadata": {},
   "outputs": [
    {
     "data": {
      "text/html": [
       "<div>\n",
       "<style scoped>\n",
       "    .dataframe tbody tr th:only-of-type {\n",
       "        vertical-align: middle;\n",
       "    }\n",
       "\n",
       "    .dataframe tbody tr th {\n",
       "        vertical-align: top;\n",
       "    }\n",
       "\n",
       "    .dataframe thead th {\n",
       "        text-align: right;\n",
       "    }\n",
       "</style>\n",
       "<table border=\"1\" class=\"dataframe\">\n",
       "  <thead>\n",
       "    <tr style=\"text-align: right;\">\n",
       "      <th></th>\n",
       "      <th>count</th>\n",
       "      <th>mean</th>\n",
       "      <th>std</th>\n",
       "      <th>min</th>\n",
       "      <th>25%</th>\n",
       "      <th>50%</th>\n",
       "      <th>75%</th>\n",
       "      <th>max</th>\n",
       "    </tr>\n",
       "  </thead>\n",
       "  <tbody>\n",
       "    <tr>\n",
       "      <th>CustomerID</th>\n",
       "      <td>22190.0</td>\n",
       "      <td>15238.498738</td>\n",
       "      <td>1733.149624</td>\n",
       "      <td>12346.0</td>\n",
       "      <td>13755.0000</td>\n",
       "      <td>15136.000</td>\n",
       "      <td>16746.0000</td>\n",
       "      <td>18287.0</td>\n",
       "    </tr>\n",
       "    <tr>\n",
       "      <th>Quantity</th>\n",
       "      <td>22190.0</td>\n",
       "      <td>221.130599</td>\n",
       "      <td>1170.215301</td>\n",
       "      <td>-80995.0</td>\n",
       "      <td>30.0000</td>\n",
       "      <td>120.000</td>\n",
       "      <td>254.0000</td>\n",
       "      <td>80995.0</td>\n",
       "    </tr>\n",
       "    <tr>\n",
       "      <th>price_total</th>\n",
       "      <td>22190.0</td>\n",
       "      <td>374.045327</td>\n",
       "      <td>2018.482869</td>\n",
       "      <td>-168469.6</td>\n",
       "      <td>87.9625</td>\n",
       "      <td>241.505</td>\n",
       "      <td>418.0225</td>\n",
       "      <td>168469.6</td>\n",
       "    </tr>\n",
       "    <tr>\n",
       "      <th>StockCode</th>\n",
       "      <td>22190.0</td>\n",
       "      <td>18.333889</td>\n",
       "      <td>23.892111</td>\n",
       "      <td>1.0</td>\n",
       "      <td>3.0000</td>\n",
       "      <td>12.000</td>\n",
       "      <td>24.0000</td>\n",
       "      <td>542.0</td>\n",
       "    </tr>\n",
       "  </tbody>\n",
       "</table>\n",
       "</div>"
      ],
      "text/plain": [
       "               count          mean          std       min         25%  \\\n",
       "CustomerID   22190.0  15238.498738  1733.149624   12346.0  13755.0000   \n",
       "Quantity     22190.0    221.130599  1170.215301  -80995.0     30.0000   \n",
       "price_total  22190.0    374.045327  2018.482869 -168469.6     87.9625   \n",
       "StockCode    22190.0     18.333889    23.892111       1.0      3.0000   \n",
       "\n",
       "                   50%         75%       max  \n",
       "CustomerID   15136.000  16746.0000   18287.0  \n",
       "Quantity       120.000    254.0000   80995.0  \n",
       "price_total    241.505    418.0225  168469.6  \n",
       "StockCode       12.000     24.0000     542.0  "
      ]
     },
     "execution_count": 78,
     "metadata": {},
     "output_type": "execute_result"
    }
   ],
   "source": [
    "df[numeric_cols[1:]].describe().T"
   ]
  },
  {
   "cell_type": "markdown",
   "metadata": {},
   "source": [
    "**Insights**:\n",
    "\n",
    "1.  Lo primero que salta a la vista es los valores negativos tanto de Quantity y price_total los que no tienen sentido en el contexto de nuestro problema\n",
    "\n",
    "2.  Igual puede ser que los valores maximos esten muy altos... pero primero tendremos que sacar los negativos para evitar la influencia de estos en la media.\n",
    "\n",
    "3.  Hay un usuario que se llevo 542 objetos distintos lo que parece bastante extraño"
   ]
  },
  {
   "cell_type": "code",
   "execution_count": null,
   "metadata": {},
   "outputs": [
    {
     "data": {
      "image/png": "[encoded data removed]",
      "text/plain": [
       "<Figure size 640x480 with 1 Axes>"
      ]
     },
     "metadata": {},
     "output_type": "display_data"
    }
   ],
   "source": [
    "sns.histplot(df['price_total'])\n",
    "plt.title('')\n",
    "plt.show()"
   ]
  }
 ],
 "metadata": {
  "kernelspec": {
   "display_name": "venv",
   "language": "python",
   "name": "python3"
  },
  "language_info": {
   "codemirror_mode": {
    "name": "ipython",
    "version": 3
   },
   "file_extension": ".py",
   "mimetype": "text/x-python",
   "name": "python",
   "nbconvert_exporter": "python",
   "pygments_lexer": "ipython3",
   "version": "3.12.3"
  }
 },
 "nbformat": 4,
 "nbformat_minor": 2
}
